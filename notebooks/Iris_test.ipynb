{
    "cells": [
        {
            "cell_type": "markdown",
            "id": "1c788ef1",
            "metadata": {},
            "source": [
                "# Notebook test IRIS model before integrating it to the MLOps pipeline"
            ]
        },
        {
            "cell_type": "code",
            "execution_count": 1,
            "id": "cc38d500",
            "metadata": {},
            "outputs": [],
            "source": [
                "import pickle\n",
                "import pandas as pd"
            ]
        },
        {
            "cell_type": "code",
            "execution_count": 3,
            "id": "6359cce7",
            "metadata": {},
            "outputs": [],
            "source": [
                "with open(\"../models/test_model.pkl\", \"rb\") as f:\n",
                "    model = pickle.load(f)"
            ]
        },
        {
            "cell_type": "code",
            "execution_count": 9,
            "id": "d684796c",
            "metadata": {},
            "outputs": [],
            "source": [
                "test_data = pd.DataFrame([\n",
                "    {\"sepal_length\": 5.1, \"sepal_width\": 3.5, \"petal_length\": 1.4, \"petal_width\": 0.2},\n",
                "    {\"sepal_length\": 6.4, \"sepal_width\": 3.2, \"petal_length\": 4.5, \"petal_width\": 1.5},\n",
                "    {\"sepal_length\": 7.9, \"sepal_width\": 3.8, \"petal_length\": 6.4, \"petal_width\": 2.0},\n",
                "])\n",
                "\n",
                "expected_labels = [\"setosa\", \"versicolor\", \"virginica\"]"
            ]
        },
        {
            "cell_type": "code",
            "execution_count": 15,
            "id": "910bbfc0",
            "metadata": {},
            "outputs": [
                {
                    "name": "stdout",
                    "output_type": "stream",
                    "text": [
                        "  expected_label predicted_label\n",
                        "0         setosa          setosa\n",
                        "1     versicolor      versicolor\n",
                        "2      virginica       virginica\n"
                    ]
                }
            ],
            "source": [
                "predicted_labels = model.predict(test_data)\n",
                "results_df = pd.DataFrame({\"expected_label\": expected_labels, \"predicted_label\": predicted_labels})\n",
                "print(results_df)"
            ]
        }
    ],
    "metadata": {
        "kernelspec": {
            "display_name": ".venv",
            "language": "python",
            "name": "python3"
        },
        "language_info": {
            "codemirror_mode": {
                "name": "ipython",
                "version": 3
            },
            "file_extension": ".py",
            "mimetype": "text/x-python",
            "name": "python",
            "nbconvert_exporter": "python",
            "pygments_lexer": "ipython3",
            "version": "3.12.3"
        }
    },
    "nbformat": 4,
    "nbformat_minor": 5
}
